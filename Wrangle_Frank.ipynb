{
 "cells": [
  {
   "cell_type": "code",
   "execution_count": 1,
   "id": "biblical-arrangement",
   "metadata": {},
   "outputs": [],
   "source": [
    "import pandas as pd\n",
    "from scipy.stats import linregress\n",
    "import scipy.stats as st\n",
    "import matplotlib.pyplot as plt\n",
    "#pd.set_option(\"display.max_rows\", None, \"display.max_columns\", None)"
   ]
  },
  {
   "cell_type": "code",
   "execution_count": 2,
   "id": "adjustable-footwear",
   "metadata": {},
   "outputs": [],
   "source": [
    "# create the raw dataframe from the CSV\n",
    "raw_data = pd.read_csv(\"raw-2005-2019 (4).csv\")\n",
    "regions = pd.read_csv(\"Country divided by regions(world Bank).csv\")\n",
    "\n",
    "# Drop unsused columns and rename needed columns for region\n",
    "regions = regions[[\"Region\", \"TableName\"]]\n",
    "regions = regions.rename(columns={\"TableName\" : \"Country name\"})\n",
    "\n",
    "# Create the the dataframe being used for the gini index comparison \n",
    "gini_index = pd.merge(raw_data.dropna(), regions)\n",
    "gini_index_2010 = gini_index.loc[gini_index[\"year\"] == 2010]\n",
    "gini_index_2015 = gini_index.loc[gini_index[\"year\"] == 2015]\n",
    "\n",
    "#Create main clean data without the GINI index\n",
    "clean_data = raw_data.drop(\"GINI index (World Bank estimate)\", 1)\n",
    "\n",
    "#Get data for the 3 most recent years\n",
    "clean_data = clean_data.loc[clean_data[\"year\"] >= 2017]\n",
    "\n",
    "\n",
    "merged_data = pd.merge(clean_data, regions, on = \"Country name\")"
   ]
  },
  {
   "cell_type": "markdown",
   "id": "restricted-contest",
   "metadata": {},
   "source": [
    "#### Add the countries that were left out "
   ]
  },
  {
   "cell_type": "code",
   "execution_count": 3,
   "id": "executed-charter",
   "metadata": {},
   "outputs": [],
   "source": [
    "merged_renamed = merged_data.rename(columns={\"Country name\": \"Country Name\", \"Social support\": \"Social Support\", \"Healthy life expectancy at birth\": \"HALE\", \"Life Ladder\": \"Happiness Score\", \"Log GDP per capita\": \"GDP per Capita(ln)\"})\n",
    "# Create an empty list to store the values that are not found in the regions list\n",
    "not_in_list = []\n",
    "\n",
    "# Create a list for\n",
    "regions_list = regions[\"Country name\"].tolist()\n",
    "\n",
    "for index, row in clean_data.iterrows():\n",
    "      if row[\"Country name\"] not in regions_list:\n",
    "            not_in_list.append(row[\"Country name\"])\n",
    "# Drop the duplicates to see the countries excluded from the merge due to country name issues\n",
    "not_in_list = list(dict.fromkeys(not_in_list))"
   ]
  },
  {
   "cell_type": "markdown",
   "id": "vital-outside",
   "metadata": {},
   "source": [
    "#### Filter data set to only include countries that have data for all 3 years"
   ]
  },
  {
   "cell_type": "code",
   "execution_count": 4,
   "id": "anonymous-value",
   "metadata": {},
   "outputs": [],
   "source": [
    "#Get a working copy of the merged data to work with\n",
    "loop_df = pd.DataFrame.copy(merged_renamed)\n",
    "# loop_df = loop_df.loc[0:10]\n",
    "#Set global variables\n",
    "count = 0\n",
    "country = \"\"\n",
    "countries = []\n",
    "\n",
    "# Create a for loop to get the countries that have data for all 3 years (2017 - 2019)\n",
    "for index, row in loop_df.iterrows():\n",
    "    if country != row[\"Country Name\"]:\n",
    "        country = row[\"Country Name\"]\n",
    "        count = 0\n",
    "    elif country == row[\"Country Name\"]:\n",
    "        count += 1\n",
    "        if count == 2:\n",
    "            countries.append( row[\"Country Name\"])\n",
    "\n",
    "#Get the new Dataframe that countries countries that have data for all 3 years\n",
    "Final_df = loop_df.set_index(\"Country Name\").loc[countries].reset_index()"
   ]
  },
  {
   "cell_type": "markdown",
   "id": "executed-driver",
   "metadata": {},
   "source": [
    "#### Analysis Starts here"
   ]
  },
  {
   "cell_type": "code",
   "execution_count": null,
   "id": "fourth-people",
   "metadata": {},
   "outputs": [],
   "source": [
    "# Drop the missing values from HALE and Happiness scores column\n",
    "cleaned = Final_df.dropna(subset = [\"HALE\", \"Happiness Score\"])\n",
    "hale = cleaned.sort_values(by = \"Happiness Score\", ascending = False)\n",
    "\n",
    "\n",
    "hale_2017 = hale.loc[cleaned[\"year\"] == 2017]\n",
    "hale_2018 = hale.loc[cleaned[\"year\"] == 2018]\n",
    "hale_2019 = hale.loc[cleaned[\"year\"] == 2019]"
   ]
  },
  {
   "cell_type": "code",
   "execution_count": null,
   "id": "prepared-plaza",
   "metadata": {},
   "outputs": [],
   "source": [
    "# define your functions\n",
    "def linear_regressions(x_column,y_column):\n",
    "    x = x_column\n",
    "    y = y_column\n",
    "    (slope, intercept, rval, p_value, st) = linregress(x, y)\n",
    "    regress_values = x * slope + intercept\n",
    "    line_eq = \"y = \" + str(round(slope,2)) + \"x + \" + str(round(intercept,2))\n",
    "    plt.scatter(x_column, y_column)\n",
    "    plt.xlabel(x_column.name)\n",
    "    plt.ylabel(y_column.name)\n",
    "    plt.plot(x,regress_values,\"r-\")\n",
    "    print(f\"The coefficient of correlation {rval}\")\n",
    "    print(f\"The p_value is :{p_value}\")\n",
    "    print(f\"R Squared is: {rval** 2}\")\n",
    "    plt.annotate(line_eq,(max(x),max(y)),fontsize=15,color=\"red\")\n",
    "\n",
    "def remove_outliers(df, df_series):\n",
    "    quartiles = df_series.quantile([.25,.50,.75])\n",
    "    lowerq = quartiles[.25]\n",
    "    upperq = quartiles[.75]\n",
    "    IQR = upperq - lowerq\n",
    "    lower_bound = lowerq - (1.5*IQR)\n",
    "    upper_bound = upperq + (1.5*IQR)\n",
    "    df = df.loc[(df_series > lower_bound) & (df_series < upper_bound) ]\n",
    "    return df"
   ]
  },
  {
   "cell_type": "code",
   "execution_count": null,
   "id": "organized-clearance",
   "metadata": {},
   "outputs": [],
   "source": [
    "# Create a boxplot to check for potential outliers in the happiness index.\n",
    "labels = [\"2017-2019\", \"2017\", \"2018\", \"2019\"]\n",
    "plt.boxplot([hale[\"Happiness Score\"], hale_2017[\"Happiness Score\"], hale_2018[\"Happiness Score\"], hale_2019[\"Happiness Score\"]], labels = labels, sym = \"b\")\n",
    "plt.xlabel(\"Year\")\n",
    "plt.ylabel(\"Happiness Score\")\n",
    "plt.title(\"Happiness Comparison across Data Sets\")"
   ]
  },
  {
   "cell_type": "code",
   "execution_count": null,
   "id": "informative-adventure",
   "metadata": {},
   "outputs": [],
   "source": [
    "# Create a boxplot to check for potential outliers in the HALE series.\n",
    "plt.boxplot([hale[\"HALE\"], hale_2017[\"HALE\"], hale_2018[\"HALE\"], hale_2019[\"HALE\"]], labels = labels, sym = \"b\")\n",
    "plt.xlabel(\"Year\")\n",
    "plt.ylabel(\"HALE\")\n",
    "plt.title(\"HALE Comparison across Data Sets\")"
   ]
  },
  {
   "cell_type": "code",
   "execution_count": null,
   "id": "junior-tenant",
   "metadata": {},
   "outputs": [],
   "source": [
    "# Remove the outliers so that the data is more accurately reflected.\n",
    "hale = remove_outliers(hale, hale[\"Happiness Score\"])\n",
    "hale_2019 = remove_outliers(hale_2019, hale_2019[\"Happiness Score\"])"
   ]
  },
  {
   "cell_type": "markdown",
   "id": "searching-holocaust",
   "metadata": {},
   "source": [
    "#### ALL 3 Years"
   ]
  },
  {
   "cell_type": "code",
   "execution_count": null,
   "id": "super-europe",
   "metadata": {},
   "outputs": [],
   "source": [
    "linear_regressions(hale[\"HALE\"], hale[\"Happiness Score\"])"
   ]
  },
  {
   "cell_type": "markdown",
   "id": "freelance-refrigerator",
   "metadata": {},
   "source": [
    "#### 2017"
   ]
  },
  {
   "cell_type": "code",
   "execution_count": null,
   "id": "composite-parade",
   "metadata": {},
   "outputs": [],
   "source": [
    "linear_regressions(hale_2017[\"HALE\"], hale_2017[\"Happiness Score\"])"
   ]
  },
  {
   "cell_type": "markdown",
   "id": "decimal-rebecca",
   "metadata": {},
   "source": [
    "#### 2018"
   ]
  },
  {
   "cell_type": "code",
   "execution_count": null,
   "id": "stopped-generic",
   "metadata": {},
   "outputs": [],
   "source": [
    "linear_regressions(hale_2018[\"HALE\"], hale_2018[\"Happiness Score\"])"
   ]
  },
  {
   "cell_type": "markdown",
   "id": "backed-sweet",
   "metadata": {},
   "source": [
    "#### 2019"
   ]
  },
  {
   "cell_type": "code",
   "execution_count": null,
   "id": "acquired-ticket",
   "metadata": {},
   "outputs": [],
   "source": [
    "linear_regressions(hale_2019[\"HALE\"], hale_2019[\"Happiness Score\"])"
   ]
  },
  {
   "cell_type": "markdown",
   "id": "sixth-algorithm",
   "metadata": {},
   "source": [
    "#### BOTTOM and TOP Corellation"
   ]
  },
  {
   "cell_type": "code",
   "execution_count": null,
   "id": "competitive-prayer",
   "metadata": {},
   "outputs": [],
   "source": [
    "# Split the data set into the TOP 50% and Bottom 50% based off Happiness \n",
    "top_hale = hale.iloc[0:189]\n",
    "bottom_hale = hale.iloc[189:]\n",
    "x_top = remove_outliers(top_hale, top_hale[\"HALE\"])[[\"Country Name\", \"Happiness Score\", \"HALE\"]]\n",
    "x_bottom = remove_outliers(bottom_hale, bottom_hale[\"HALE\"])[[\"Country Name\", \"Happiness Score\", \"HALE\"]]\n"
   ]
  },
  {
   "cell_type": "code",
   "execution_count": null,
   "id": "shaped-montana",
   "metadata": {},
   "outputs": [],
   "source": [
    "# Top half analysis and regression\n",
    "linear_regressions(top_hale[\"HALE\"], top_hale[\"Happiness Score\"])"
   ]
  },
  {
   "cell_type": "code",
   "execution_count": null,
   "id": "structured-cooling",
   "metadata": {},
   "outputs": [],
   "source": [
    "# Bottom half analysis and regression\n",
    "linear_regressions(bottom_hale[\"HALE\"], bottom_hale[\"Happiness Score\"])"
   ]
  },
  {
   "cell_type": "code",
   "execution_count": null,
   "id": "packed-rugby",
   "metadata": {},
   "outputs": [],
   "source": [
    "x_top.describe()"
   ]
  },
  {
   "cell_type": "code",
   "execution_count": null,
   "id": "smoking-florist",
   "metadata": {},
   "outputs": [],
   "source": [
    "x_bottom.describe()"
   ]
  },
  {
   "cell_type": "code",
   "execution_count": null,
   "id": "offshore-statistics",
   "metadata": {},
   "outputs": [],
   "source": [
    "x_bottom"
   ]
  },
  {
   "cell_type": "markdown",
   "id": "serious-committee",
   "metadata": {},
   "source": [
    "#### USE THESE GRAPHS MARIA"
   ]
  },
  {
   "cell_type": "code",
   "execution_count": 5,
   "id": "elementary-sending",
   "metadata": {},
   "outputs": [],
   "source": [
    "# define your functions\n",
    "def linear_regressions(x_column,y_column):\n",
    "    x = x_column\n",
    "    y = y_column\n",
    "    (slope, intercept, rval, p_value, st) = linregress(x, y)\n",
    "    regress_values = x * slope + intercept\n",
    "    line_eq = \"y = \" + str(round(slope,2)) + \"x + \" + str(round(intercept,2))\n",
    "    plt.scatter(x_column, y_column)\n",
    "    plt.xlabel(x_column.name)\n",
    "    plt.ylabel(y_column.name)\n",
    "    plt.plot(x,regress_values,\"r-\")\n",
    "    print(f\"The coefficient of correlation {rval}\")\n",
    "    print(f\"The p_value is :{p_value}\")\n",
    "    print(f\"R Squared is: {rval** 2}\")\n",
    "    plt.annotate(line_eq,(max(x),max(y)),fontsize=15,color=\"red\")\n",
    "\n",
    "def remove_outliers(df, df_series):\n",
    "    quartiles = df_series.quantile([.25,.50,.75])\n",
    "    lowerq = quartiles[.25]\n",
    "    upperq = quartiles[.75]\n",
    "    IQR = upperq - lowerq\n",
    "    lower_bound = lowerq - (1.5*IQR)\n",
    "    upper_bound = upperq + (1.5*IQR)\n",
    "    df = df.loc[(df_series > lower_bound) & (df_series < upper_bound) ]\n",
    "    return df"
   ]
  },
  {
   "cell_type": "code",
   "execution_count": 6,
   "id": "manual-junior",
   "metadata": {},
   "outputs": [],
   "source": [
    "cleaned = Final_df.dropna(subset = [\"HALE\", \"Happiness Score\"])\n",
    "hale = cleaned.sort_values(by = \"Happiness Score\", ascending = False)"
   ]
  },
  {
   "cell_type": "code",
   "execution_count": 8,
   "id": "mounted-leeds",
   "metadata": {},
   "outputs": [],
   "source": [
    "# Split the data set into the TOP 50% and Bottom 50% based off Happiness \n",
    "top_hale = hale.iloc[0:189]\n",
    "bottom_hale = hale.iloc[189:]\n",
    "x_top = remove_outliers(top_hale, top_hale[\"HALE\"])[[\"Country Name\", \"Happiness Score\", \"HALE\"]]\n",
    "x_bottom = remove_outliers(bottom_hale, bottom_hale[\"HALE\"])[[\"Country Name\", \"Happiness Score\", \"HALE\"]]\n",
    "# Remove the outliers so that the data is more accurately reflected.\n",
    "hale = remove_outliers(hale, hale[\"Happiness Score\"])"
   ]
  },
  {
   "cell_type": "code",
   "execution_count": 9,
   "id": "informative-challenge",
   "metadata": {},
   "outputs": [
    {
     "name": "stdout",
     "output_type": "stream",
     "text": [
      "The coefficient of correlation 0.7389949501812728\n",
      "The p_value is :2.6463480811835233e-66\n",
      "R Squared is: 0.5461135363934219\n"
     ]
    },
    {
     "data": {
      "image/png": "[encoded data removed]",
      "text/plain": [
       "<Figure size 432x288 with 1 Axes>"
      ]
     },
     "metadata": {
      "needs_background": "light"
     },
     "output_type": "display_data"
    }
   ],
   "source": [
    "linear_regressions(hale[\"HALE\"], hale[\"Happiness Score\"])"
   ]
  },
  {
   "cell_type": "code",
   "execution_count": 10,
   "id": "patient-consolidation",
   "metadata": {},
   "outputs": [
    {
     "name": "stdout",
     "output_type": "stream",
     "text": [
      "The coefficient of correlation 0.573947105325513\n",
      "The p_value is :5.962440299178385e-18\n",
      "R Squared is: 0.32941527971153545\n"
     ]
    },
    {
     "data": {
      "image/png": "[encoded data removed]",
      "text/plain": [
       "<Figure size 432x288 with 1 Axes>"
      ]
     },
     "metadata": {
      "needs_background": "light"
     },
     "output_type": "display_data"
    }
   ],
   "source": [
    "# Top half analysis and regression\n",
    "linear_regressions(top_hale[\"HALE\"], top_hale[\"Happiness Score\"])"
   ]
  },
  {
   "cell_type": "code",
   "execution_count": 11,
   "id": "aware-accent",
   "metadata": {},
   "outputs": [
    {
     "name": "stdout",
     "output_type": "stream",
     "text": [
      "The coefficient of correlation 0.3176734201021654\n",
      "The p_value is :8.900857419844151e-06\n",
      "R Squared is: 0.10091640183940688\n"
     ]
    },
    {
     "data": {
      "image/png": "[encoded data removed]",
      "text/plain": [
       "<Figure size 432x288 with 1 Axes>"
      ]
     },
     "metadata": {
      "needs_background": "light"
     },
     "output_type": "display_data"
    }
   ],
   "source": [
    "# Bottom half analysis and regression\n",
    "linear_regressions(bottom_hale[\"HALE\"], bottom_hale[\"Happiness Score\"])"
   ]
  },
  {
   "cell_type": "code",
   "execution_count": null,
   "id": "posted-board",
   "metadata": {},
   "outputs": [],
   "source": []
  },
  {
   "cell_type": "code",
   "execution_count": null,
   "id": "cellular-stream",
   "metadata": {},
   "outputs": [],
   "source": []
  }
 ],
 "metadata": {
  "kernelspec": {
   "display_name": "PythonData",
   "language": "python",
   "name": "pythondata"
  },
  "language_info": {
   "codemirror_mode": {
    "name": "ipython",
    "version": 3
   },
   "file_extension": ".py",
   "mimetype": "text/x-python",
   "name": "python",
   "nbconvert_exporter": "python",
   "pygments_lexer": "ipython3",
   "version": "3.6.12"
  }
 },
 "nbformat": 4,
 "nbformat_minor": 5
}
