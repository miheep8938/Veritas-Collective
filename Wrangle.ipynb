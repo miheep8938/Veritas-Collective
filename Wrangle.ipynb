{
 "cells": [
  {
   "cell_type": "code",
   "execution_count": 2,
   "metadata": {},
   "outputs": [],
   "source": [
    "import pandas as pd\n",
    "# pd.set_option(\"display.max_rows\", None, \"display.max_columns\", None)"
   ]
  },
  {
   "cell_type": "code",
   "execution_count": 3,
   "metadata": {},
   "outputs": [],
   "source": [
    "# create the raw dataframe from the CSV\n",
    "raw_data = pd.read_csv(\"raw-2005-2019 (4).csv\")\n",
    "regions = pd.read_csv(\"Country divided by regions(world Bank).csv\")\n",
    "\n",
    "# Drop unsused columns and rename needed columns for region\n",
    "regions = regions[[\"Region\", \"TableName\"]]\n",
    "regions = regions.rename(columns={\"TableName\" : \"Country name\"})\n",
    "\n",
    "# Create the the dataframe being used for the gini index comparison \n",
    "gini_index = pd.merge(raw_data.dropna(subset = \"\"), regions)\n",
    "gini_index_2010 = gini_index.loc[gini_index[\"year\"] == 2010]\n",
    "gini_index_2015 = gini_index.loc[gini_index[\"year\"] == 2015]\n",
    "\n",
    "#Create main clean data without the GINI index\n",
    "clean_data = raw_data.drop(\"GINI index (World Bank estimate)\", 1)\n",
    "\n",
    "#Get data for the 3 most recent years\n",
    "clean_data = clean_data.loc[clean_data[\"year\"] >= 2017]\n",
    "\n",
    "\n",
    "merged_data = pd.merge(clean_data, regions, on = \"Country name\")"
   ]
  },
  {
   "cell_type": "markdown",
   "metadata": {},
   "source": [
    "#### Add the countries that were left out "
   ]
  },
  {
   "cell_type": "code",
   "execution_count": 6,
   "metadata": {},
   "outputs": [
    {
     "name": "stdout",
     "output_type": "stream",
     "text": [
      "0\n",
      "427 427\n"
     ]
    }
   ],
   "source": [
    "# Create an empty list to store the values that are not found in the regions list\n",
    "not_in_list = []\n",
    "\n",
    "# Create a list for\n",
    "regions_list = regions[\"Country name\"].tolist()\n",
    "\n",
    "for index, row in clean_data.iterrows():\n",
    "      if row[\"Country name\"] not in regions_list:\n",
    "            not_in_list.append(row[\"Country name\"])\n",
    "# Drop the duplicates to see the countries excluded from the merge due to country name issues\n",
    "not_in_list = list(dict.fromkeys(not_in_list))\n",
    "\n",
    "#After i had the unique countries that did not get merged i checked the CSV file to see why.\n",
    "#If it was in the CSV file but with a different name i updated the name in the CSV file to match our dataframe\n",
    "#If the country was not in the CSV file i added the data by adding its name and appropriate region that matches the CSV (Laos and Palestinian Territories)\n",
    "\n",
    "#Print len of list that contains valued not merged to make sure that no conutries from clean data set were left out and that they all received a region\n",
    "print(len(not_in_list))\n",
    "\n",
    "#print the len of your merged data and orginal dataframe to make sure they match just for good measures and all orginal data is represented\n",
    "print(len(merged_renamed), len(clean_data))"
   ]
  },
  {
   "cell_type": "code",
   "execution_count": 5,
   "metadata": {},
   "outputs": [],
   "source": [
    "merged_renamed = merged_data.rename(columns={\"Country name\": \"Country Name\", \"Social support\": \"Social Support\", \"Healthy life expectancy at birth\": \"HALE\", \"Life Ladder\": \"Happiness Score\", \"Log GDP per capita\": \"GDP per Capita(ln)\"})"
   ]
  },
  {
   "cell_type": "code",
   "execution_count": 7,
   "metadata": {},
   "outputs": [
    {
     "data": {
      "text/html": [
       "<div>\n",
       "<style scoped>\n",
       "    .dataframe tbody tr th:only-of-type {\n",
       "        vertical-align: middle;\n",
       "    }\n",
       "\n",
       "    .dataframe tbody tr th {\n",
       "        vertical-align: top;\n",
       "    }\n",
       "\n",
       "    .dataframe thead th {\n",
       "        text-align: right;\n",
       "    }\n",
       "</style>\n",
       "<table border=\"1\" class=\"dataframe\">\n",
       "  <thead>\n",
       "    <tr style=\"text-align: right;\">\n",
       "      <th></th>\n",
       "      <th>Country Name</th>\n",
       "      <th>year</th>\n",
       "      <th>Happiness Score</th>\n",
       "      <th>GDP per Capita</th>\n",
       "      <th>Social Support</th>\n",
       "      <th>Life Expectancy</th>\n",
       "      <th>Freedom to make life choices</th>\n",
       "      <th>Generosity</th>\n",
       "      <th>Perceptions of corruption</th>\n",
       "      <th>Positive affect</th>\n",
       "      <th>Democratic Quality</th>\n",
       "      <th>Delivery Quality</th>\n",
       "      <th>Standard deviation of ladder by country-year</th>\n",
       "      <th>Standard deviation/Mean of ladder by country-year</th>\n",
       "      <th>Region</th>\n",
       "    </tr>\n",
       "  </thead>\n",
       "  <tbody>\n",
       "    <tr>\n",
       "      <th>403</th>\n",
       "      <td>United States</td>\n",
       "      <td>2017</td>\n",
       "      <td>6.991759</td>\n",
       "      <td>10.905420</td>\n",
       "      <td>0.921003</td>\n",
       "      <td>68.400002</td>\n",
       "      <td>0.868497</td>\n",
       "      <td>0.194489</td>\n",
       "      <td>0.681191</td>\n",
       "      <td>0.826555</td>\n",
       "      <td>0.692602</td>\n",
       "      <td>1.552104</td>\n",
       "      <td>1.880688</td>\n",
       "      <td>0.268986</td>\n",
       "      <td>North America</td>\n",
       "    </tr>\n",
       "    <tr>\n",
       "      <th>404</th>\n",
       "      <td>United States</td>\n",
       "      <td>2018</td>\n",
       "      <td>6.882685</td>\n",
       "      <td>10.927395</td>\n",
       "      <td>0.903856</td>\n",
       "      <td>68.300003</td>\n",
       "      <td>0.824607</td>\n",
       "      <td>0.113378</td>\n",
       "      <td>0.709928</td>\n",
       "      <td>0.815383</td>\n",
       "      <td>0.758395</td>\n",
       "      <td>1.482865</td>\n",
       "      <td>2.119374</td>\n",
       "      <td>0.307928</td>\n",
       "      <td>North America</td>\n",
       "    </tr>\n",
       "    <tr>\n",
       "      <th>405</th>\n",
       "      <td>United States</td>\n",
       "      <td>2019</td>\n",
       "      <td>6.943701</td>\n",
       "      <td>10.944225</td>\n",
       "      <td>0.916691</td>\n",
       "      <td>68.199997</td>\n",
       "      <td>0.836139</td>\n",
       "      <td>0.141645</td>\n",
       "      <td>0.706716</td>\n",
       "      <td>0.814985</td>\n",
       "      <td>NaN</td>\n",
       "      <td>NaN</td>\n",
       "      <td>1.789670</td>\n",
       "      <td>0.257740</td>\n",
       "      <td>North America</td>\n",
       "    </tr>\n",
       "  </tbody>\n",
       "</table>\n",
       "</div>"
      ],
      "text/plain": [
       "      Country Name  year  Happiness Score  GDP per Capita  Social Support  \\\n",
       "403  United States  2017         6.991759       10.905420        0.921003   \n",
       "404  United States  2018         6.882685       10.927395        0.903856   \n",
       "405  United States  2019         6.943701       10.944225        0.916691   \n",
       "\n",
       "     Life Expectancy  Freedom to make life choices  Generosity  \\\n",
       "403        68.400002                      0.868497    0.194489   \n",
       "404        68.300003                      0.824607    0.113378   \n",
       "405        68.199997                      0.836139    0.141645   \n",
       "\n",
       "     Perceptions of corruption  Positive affect  Democratic Quality  \\\n",
       "403                   0.681191         0.826555            0.692602   \n",
       "404                   0.709928         0.815383            0.758395   \n",
       "405                   0.706716         0.814985                 NaN   \n",
       "\n",
       "     Delivery Quality  Standard deviation of ladder by country-year  \\\n",
       "403          1.552104                                      1.880688   \n",
       "404          1.482865                                      2.119374   \n",
       "405               NaN                                      1.789670   \n",
       "\n",
       "     Standard deviation/Mean of ladder by country-year         Region  \n",
       "403                                           0.268986  North America  \n",
       "404                                           0.307928  North America  \n",
       "405                                           0.257740  North America  "
      ]
     },
     "execution_count": 7,
     "metadata": {},
     "output_type": "execute_result"
    }
   ],
   "source": [
    "merged_renamed.loc[merged_renamed[\"Country Name\"] == \"United States\"]"
   ]
  },
  {
   "cell_type": "markdown",
   "metadata": {},
   "source": [
    "#### Filter data set to only include countries that have data for all 3 years"
   ]
  },
  {
   "cell_type": "code",
   "execution_count": 8,
   "metadata": {},
   "outputs": [
    {
     "name": "stdout",
     "output_type": "stream",
     "text": [
      "129\n",
      "153\n"
     ]
    },
    {
     "data": {
      "text/plain": [
       "129"
      ]
     },
     "execution_count": 8,
     "metadata": {},
     "output_type": "execute_result"
    }
   ],
   "source": [
    "#Get a working copy of the merged data to work with\n",
    "loop_df = pd.DataFrame.copy(merged_renamed)\n",
    "# loop_df = loop_df.loc[0:10]\n",
    "#Set global variables\n",
    "count = 0\n",
    "country = \"\"\n",
    "countries = []\n",
    "\n",
    "# Create a for loop to get the countries that have data for all 3 years (2017 - 2019)\n",
    "for index, row in loop_df.iterrows():\n",
    "    if country != row[\"Country Name\"]:\n",
    "        country = row[\"Country Name\"]\n",
    "        count = 0\n",
    "    elif country == row[\"Country Name\"]:\n",
    "        count += 1\n",
    "        if count == 2:\n",
    "            countries.append( row[\"Country Name\"])\n",
    "\n",
    "# Print the lenght of the countries with all 3 years and original data frame to see how many we are losing\n",
    "print(len(countries))\n",
    "print(len(loop_df[\"Country Name\"].unique()))\n",
    "\n",
    "#Get the new Dataframe that countries countries that have data for all 3 years\n",
    "Final_df = loop_df.set_index(\"Country Name\").loc[countries].reset_index()\n",
    "\n",
    "#Check to see if lenght matches length of countries lists\n",
    "Final_df[\"Country Name\"].nunique()\n"
   ]
  },
  {
   "cell_type": "markdown",
   "metadata": {},
   "source": [
    "#### Final Data sets"
   ]
  },
  {
   "cell_type": "code",
   "execution_count": 9,
   "metadata": {},
   "outputs": [],
   "source": [
    "#Gini Data set \n",
    "gini_index\n",
    "gini_index_2010\n",
    "gini_index_2015"
   ]
  },
  {
   "cell_type": "code",
   "execution_count": 9,
   "metadata": {},
   "outputs": [
    {
     "data": {
      "text/plain": [
       "Country Name                                         387\n",
       "year                                                 387\n",
       "Happiness Score                                      387\n",
       "GDP per Capita                                       374\n",
       "Social Support                                       386\n",
       "Life Expectancy                                      378\n",
       "Freedom to make life choices                         384\n",
       "Generosity                                           373\n",
       "Perceptions of corruption                            366\n",
       "Positive affect                                      384\n",
       "Democratic Quality                                   258\n",
       "Delivery Quality                                     258\n",
       "Standard deviation of ladder by country-year         387\n",
       "Standard deviation/Mean of ladder by country-year    387\n",
       "Region                                               387\n",
       "dtype: int64"
      ]
     },
     "execution_count": 9,
     "metadata": {},
     "output_type": "execute_result"
    }
   ],
   "source": [
    "#Data set with the countries that have data for all 3 years \n",
    "Final_df"
   ]
  },
  {
   "cell_type": "code",
   "execution_count": 34,
   "metadata": {},
   "outputs": [
    {
     "data": {
      "text/plain": [
       "72"
      ]
     },
     "execution_count": 34,
     "metadata": {},
     "output_type": "execute_result"
    }
   ],
   "source": []
  }
 ],
 "metadata": {
  "kernelspec": {
   "display_name": "Python 3",
   "language": "python",
   "name": "python3"
  },
  "language_info": {
   "codemirror_mode": {
    "name": "ipython",
    "version": 3
   },
   "file_extension": ".py",
   "mimetype": "text/x-python",
   "name": "python",
   "nbconvert_exporter": "python",
   "pygments_lexer": "ipython3",
   "version": "3.8.5"
  }
 },
 "nbformat": 4,
 "nbformat_minor": 5
}
