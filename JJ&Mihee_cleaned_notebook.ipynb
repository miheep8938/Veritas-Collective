{
 "cells": [
  {
   "cell_type": "code",
   "execution_count": 3,
   "id": "catholic-clause",
   "metadata": {},
   "outputs": [],
   "source": [
    "import pandas as pd\n",
    "import scipy.stats as st\n",
    "from scipy.stats import linregress\n",
    "import matplotlib.pyplot as plt\n",
    "import numpy as np\n",
    "# pd.set_option(\"display.max_rows\", None, \"display.max_columns\", None)"
   ]
  },
  {
   "cell_type": "code",
   "execution_count": 4,
   "id": "paperback-attraction",
   "metadata": {},
   "outputs": [],
   "source": [
    "# create the raw dataframe from the CSV\n",
    "raw_data = pd.read_csv(\"raw-2005-2019 (4).csv\")\n",
    "regions = pd.read_csv(\"Country divided by regions(world Bank).csv\")\n",
    "\n",
    "# Drop unsused columns and rename needed columns for region\n",
    "regions = regions[[\"Region\", \"TableName\"]]\n",
    "regions = regions.rename(columns={\"TableName\" : \"Country name\"})\n",
    "\n",
    "# Create the the dataframe being used for the gini index comparison \n",
    "gini_index = pd.merge(raw_data.dropna(), regions)\n",
    "gini_index_2010 = gini_index.loc[gini_index[\"year\"] == 2010]\n",
    "gini_index_2015 = gini_index.loc[gini_index[\"year\"] == 2015]\n",
    "\n",
    "#Create main clean data without the GINI index\n",
    "clean_data = raw_data.drop(\"GINI index (World Bank estimate)\", 1)\n",
    "\n",
    "#Get data for the 3 most recent years\n",
    "clean_data = clean_data.loc[clean_data[\"year\"] >= 2017]\n",
    "\n",
    "\n",
    "merged_data = pd.merge(clean_data, regions, on = \"Country name\")"
   ]
  },
  {
   "cell_type": "markdown",
   "id": "changing-client",
   "metadata": {},
   "source": [
    "#### Add the countries that were left out "
   ]
  },
  {
   "cell_type": "code",
   "execution_count": 5,
   "id": "familiar-portugal",
   "metadata": {},
   "outputs": [
    {
     "name": "stdout",
     "output_type": "stream",
     "text": [
      "0\n"
     ]
    },
    {
     "ename": "NameError",
     "evalue": "name 'merged_renamed' is not defined",
     "output_type": "error",
     "traceback": [
      "\u001b[0;31m---------------------------------------------------------------------------\u001b[0m",
      "\u001b[0;31mNameError\u001b[0m                                 Traceback (most recent call last)",
      "\u001b[0;32m<ipython-input-5-da0aec6e06d5>\u001b[0m in \u001b[0;36m<module>\u001b[0;34m\u001b[0m\n\u001b[1;32m     19\u001b[0m \u001b[0;34m\u001b[0m\u001b[0m\n\u001b[1;32m     20\u001b[0m \u001b[0;31m#print the len of your merged data and orginal dataframe to make sure they match just for good measures and all orginal data is represented\u001b[0m\u001b[0;34m\u001b[0m\u001b[0;34m\u001b[0m\u001b[0;34m\u001b[0m\u001b[0m\n\u001b[0;32m---> 21\u001b[0;31m \u001b[0mprint\u001b[0m\u001b[0;34m(\u001b[0m\u001b[0mlen\u001b[0m\u001b[0;34m(\u001b[0m\u001b[0mmerged_renamed\u001b[0m\u001b[0;34m)\u001b[0m\u001b[0;34m,\u001b[0m \u001b[0mlen\u001b[0m\u001b[0;34m(\u001b[0m\u001b[0mclean_data\u001b[0m\u001b[0;34m)\u001b[0m\u001b[0;34m)\u001b[0m\u001b[0;34m\u001b[0m\u001b[0;34m\u001b[0m\u001b[0m\n\u001b[0m",
      "\u001b[0;31mNameError\u001b[0m: name 'merged_renamed' is not defined"
     ]
    }
   ],
   "source": [
    "# Create an empty list to store the values that are not found in the regions list\n",
    "not_in_list = []\n",
    "\n",
    "# Create a list for\n",
    "regions_list = regions[\"Country name\"].tolist()\n",
    "\n",
    "for index, row in clean_data.iterrows():\n",
    "      if row[\"Country name\"] not in regions_list:\n",
    "            not_in_list.append(row[\"Country name\"])\n",
    "# Drop the duplicates to see the countries excluded from the merge due to country name issues\n",
    "not_in_list = list(dict.fromkeys(not_in_list))\n",
    "\n",
    "#After i had the unique countries that did not get merged i checked the CSV file to see why.\n",
    "#If it was in the CSV file but with a different name i updated the name in the CSV file to match our dataframe\n",
    "#If the country was not in the CSV file i added the data by adding its name and appropriate region that matches the CSV (Laos and Palestinian Territories)\n",
    "\n",
    "#Print len of list that contains valued not merged to make sure that no conutries from clean data set were left out and that they all received a region\n",
    "print(len(not_in_list))\n",
    "\n",
    "#print the len of your merged data and orginal dataframe to make sure they match just for good measures and all orginal data is represented\n",
    "print(len(merged_renamed), len(clean_data))"
   ]
  },
  {
   "cell_type": "markdown",
   "id": "prompt-bailey",
   "metadata": {},
   "source": [
    "#### Filter data set to only include countries that have data for all 3 years"
   ]
  },
  {
   "cell_type": "code",
   "execution_count": null,
   "id": "interpreted-telling",
   "metadata": {},
   "outputs": [],
   "source": [
    "#Get a working copy of the merged data to work with\n",
    "loop_df = pd.DataFrame.copy(merged_renamed)\n",
    "# loop_df = loop_df.loc[0:10]\n",
    "#Set global variables\n",
    "count = 0\n",
    "country = \"\"\n",
    "countries = []\n",
    "\n",
    "# Create a for loop to get the countries that have data for all 3 years (2017 - 2019)\n",
    "for index, row in loop_df.iterrows():\n",
    "    if country != row[\"Country Name\"]:\n",
    "        country = row[\"Country Name\"]\n",
    "        count = 0\n",
    "    elif country == row[\"Country Name\"]:\n",
    "        count += 1\n",
    "        if count == 2:\n",
    "            countries.append( row[\"Country Name\"])\n",
    "\n",
    "# Print the lenght of the countries with all 3 years and original data frame to see how many we are losing\n",
    "print(len(countries))\n",
    "print(len(loop_df[\"Country Name\"].unique()))\n",
    "\n",
    "#Get the new Dataframe that countries countries that have data for all 3 years\n",
    "Final_df = loop_df.set_index(\"Country Name\").loc[countries].reset_index()\n",
    "\n",
    "#Check to see if lenght matches length of countries lists\n",
    "Final_df[\"Country Name\"].nunique()\n"
   ]
  },
  {
   "cell_type": "markdown",
   "id": "hungarian-massage",
   "metadata": {},
   "source": [
    "#### Final Data sets"
   ]
  },
  {
   "cell_type": "code",
   "execution_count": 6,
   "id": "expected-mailing",
   "metadata": {},
   "outputs": [
    {
     "data": {
      "text/html": [
       "<div>\n",
       "<style scoped>\n",
       "    .dataframe tbody tr th:only-of-type {\n",
       "        vertical-align: middle;\n",
       "    }\n",
       "\n",
       "    .dataframe tbody tr th {\n",
       "        vertical-align: top;\n",
       "    }\n",
       "\n",
       "    .dataframe thead th {\n",
       "        text-align: right;\n",
       "    }\n",
       "</style>\n",
       "<table border=\"1\" class=\"dataframe\">\n",
       "  <thead>\n",
       "    <tr style=\"text-align: right;\">\n",
       "      <th></th>\n",
       "      <th>Country name</th>\n",
       "      <th>year</th>\n",
       "      <th>Life Ladder</th>\n",
       "      <th>Log GDP per capita</th>\n",
       "      <th>Social support</th>\n",
       "      <th>Healthy life expectancy at birth</th>\n",
       "      <th>Freedom to make life choices</th>\n",
       "      <th>Generosity</th>\n",
       "      <th>Perceptions of corruption</th>\n",
       "      <th>Positive affect</th>\n",
       "      <th>Democratic Quality</th>\n",
       "      <th>Delivery Quality</th>\n",
       "      <th>Standard deviation of ladder by country-year</th>\n",
       "      <th>Standard deviation/Mean of ladder by country-year</th>\n",
       "      <th>GINI index (World Bank estimate)</th>\n",
       "      <th>Region</th>\n",
       "    </tr>\n",
       "  </thead>\n",
       "  <tbody>\n",
       "    <tr>\n",
       "      <th>22</th>\n",
       "      <td>Armenia</td>\n",
       "      <td>2015</td>\n",
       "      <td>4.348320</td>\n",
       "      <td>9.008449</td>\n",
       "      <td>0.722551</td>\n",
       "      <td>66.000000</td>\n",
       "      <td>0.551027</td>\n",
       "      <td>-0.186535</td>\n",
       "      <td>0.901462</td>\n",
       "      <td>0.594143</td>\n",
       "      <td>-0.394313</td>\n",
       "      <td>-0.210170</td>\n",
       "      <td>2.237644</td>\n",
       "      <td>0.514600</td>\n",
       "      <td>0.324</td>\n",
       "      <td>Europe &amp; Central Asia</td>\n",
       "    </tr>\n",
       "    <tr>\n",
       "      <th>35</th>\n",
       "      <td>Austria</td>\n",
       "      <td>2015</td>\n",
       "      <td>7.076447</td>\n",
       "      <td>10.697696</td>\n",
       "      <td>0.928110</td>\n",
       "      <td>72.099998</td>\n",
       "      <td>0.900305</td>\n",
       "      <td>0.102583</td>\n",
       "      <td>0.557480</td>\n",
       "      <td>0.798263</td>\n",
       "      <td>1.263306</td>\n",
       "      <td>1.564229</td>\n",
       "      <td>1.762817</td>\n",
       "      <td>0.249110</td>\n",
       "      <td>0.305</td>\n",
       "      <td>Europe &amp; Central Asia</td>\n",
       "    </tr>\n",
       "    <tr>\n",
       "      <th>46</th>\n",
       "      <td>Belarus</td>\n",
       "      <td>2015</td>\n",
       "      <td>5.718908</td>\n",
       "      <td>9.753776</td>\n",
       "      <td>0.924073</td>\n",
       "      <td>65.199997</td>\n",
       "      <td>0.622753</td>\n",
       "      <td>-0.095122</td>\n",
       "      <td>0.668678</td>\n",
       "      <td>0.583727</td>\n",
       "      <td>-0.677531</td>\n",
       "      <td>-0.650102</td>\n",
       "      <td>2.004021</td>\n",
       "      <td>0.350420</td>\n",
       "      <td>0.256</td>\n",
       "      <td>Europe &amp; Central Asia</td>\n",
       "    </tr>\n",
       "    <tr>\n",
       "      <th>56</th>\n",
       "      <td>Belgium</td>\n",
       "      <td>2015</td>\n",
       "      <td>6.904219</td>\n",
       "      <td>10.641150</td>\n",
       "      <td>0.885209</td>\n",
       "      <td>71.400002</td>\n",
       "      <td>0.869475</td>\n",
       "      <td>0.064905</td>\n",
       "      <td>0.468785</td>\n",
       "      <td>0.805178</td>\n",
       "      <td>0.987267</td>\n",
       "      <td>1.440750</td>\n",
       "      <td>1.511811</td>\n",
       "      <td>0.218969</td>\n",
       "      <td>0.277</td>\n",
       "      <td>Europe &amp; Central Asia</td>\n",
       "    </tr>\n",
       "    <tr>\n",
       "      <th>58</th>\n",
       "      <td>Benin</td>\n",
       "      <td>2015</td>\n",
       "      <td>3.624664</td>\n",
       "      <td>7.594453</td>\n",
       "      <td>0.434389</td>\n",
       "      <td>53.099998</td>\n",
       "      <td>0.733384</td>\n",
       "      <td>-0.003847</td>\n",
       "      <td>0.850098</td>\n",
       "      <td>0.592222</td>\n",
       "      <td>0.141303</td>\n",
       "      <td>-0.567374</td>\n",
       "      <td>2.048732</td>\n",
       "      <td>0.565220</td>\n",
       "      <td>0.478</td>\n",
       "      <td>Sub-Saharan Africa</td>\n",
       "    </tr>\n",
       "    <tr>\n",
       "      <th>...</th>\n",
       "      <td>...</td>\n",
       "      <td>...</td>\n",
       "      <td>...</td>\n",
       "      <td>...</td>\n",
       "      <td>...</td>\n",
       "      <td>...</td>\n",
       "      <td>...</td>\n",
       "      <td>...</td>\n",
       "      <td>...</td>\n",
       "      <td>...</td>\n",
       "      <td>...</td>\n",
       "      <td>...</td>\n",
       "      <td>...</td>\n",
       "      <td>...</td>\n",
       "      <td>...</td>\n",
       "      <td>...</td>\n",
       "    </tr>\n",
       "    <tr>\n",
       "      <th>614</th>\n",
       "      <td>Turkey</td>\n",
       "      <td>2015</td>\n",
       "      <td>5.514465</td>\n",
       "      <td>10.056709</td>\n",
       "      <td>0.851225</td>\n",
       "      <td>65.599998</td>\n",
       "      <td>0.653197</td>\n",
       "      <td>-0.017012</td>\n",
       "      <td>0.806076</td>\n",
       "      <td>0.460246</td>\n",
       "      <td>-0.930817</td>\n",
       "      <td>0.056615</td>\n",
       "      <td>2.530940</td>\n",
       "      <td>0.458964</td>\n",
       "      <td>0.429</td>\n",
       "      <td>Europe &amp; Central Asia</td>\n",
       "    </tr>\n",
       "    <tr>\n",
       "      <th>628</th>\n",
       "      <td>Ukraine</td>\n",
       "      <td>2015</td>\n",
       "      <td>3.964543</td>\n",
       "      <td>8.917973</td>\n",
       "      <td>0.909440</td>\n",
       "      <td>63.700001</td>\n",
       "      <td>0.430592</td>\n",
       "      <td>-0.011267</td>\n",
       "      <td>0.952473</td>\n",
       "      <td>0.574076</td>\n",
       "      <td>-1.024300</td>\n",
       "      <td>-0.727938</td>\n",
       "      <td>1.956619</td>\n",
       "      <td>0.493530</td>\n",
       "      <td>0.255</td>\n",
       "      <td>Europe &amp; Central Asia</td>\n",
       "    </tr>\n",
       "    <tr>\n",
       "      <th>638</th>\n",
       "      <td>United Kingdom</td>\n",
       "      <td>2015</td>\n",
       "      <td>6.515445</td>\n",
       "      <td>10.571567</td>\n",
       "      <td>0.935986</td>\n",
       "      <td>71.699997</td>\n",
       "      <td>0.832926</td>\n",
       "      <td>0.300925</td>\n",
       "      <td>0.456134</td>\n",
       "      <td>0.797785</td>\n",
       "      <td>0.907792</td>\n",
       "      <td>1.819708</td>\n",
       "      <td>1.753815</td>\n",
       "      <td>0.269178</td>\n",
       "      <td>0.332</td>\n",
       "      <td>Europe &amp; Central Asia</td>\n",
       "    </tr>\n",
       "    <tr>\n",
       "      <th>651</th>\n",
       "      <td>Uruguay</td>\n",
       "      <td>2015</td>\n",
       "      <td>6.628080</td>\n",
       "      <td>9.900736</td>\n",
       "      <td>0.891493</td>\n",
       "      <td>68.699997</td>\n",
       "      <td>0.916880</td>\n",
       "      <td>-0.038354</td>\n",
       "      <td>0.673476</td>\n",
       "      <td>0.892661</td>\n",
       "      <td>1.073821</td>\n",
       "      <td>0.745666</td>\n",
       "      <td>2.191727</td>\n",
       "      <td>0.330673</td>\n",
       "      <td>0.402</td>\n",
       "      <td>Latin America &amp; Caribbean</td>\n",
       "    </tr>\n",
       "    <tr>\n",
       "      <th>661</th>\n",
       "      <td>Zambia</td>\n",
       "      <td>2015</td>\n",
       "      <td>4.843164</td>\n",
       "      <td>8.210052</td>\n",
       "      <td>0.691483</td>\n",
       "      <td>53.799999</td>\n",
       "      <td>0.758654</td>\n",
       "      <td>-0.049638</td>\n",
       "      <td>0.871020</td>\n",
       "      <td>0.690034</td>\n",
       "      <td>0.042575</td>\n",
       "      <td>-0.390789</td>\n",
       "      <td>3.080448</td>\n",
       "      <td>0.636040</td>\n",
       "      <td>0.571</td>\n",
       "      <td>Sub-Saharan Africa</td>\n",
       "    </tr>\n",
       "  </tbody>\n",
       "</table>\n",
       "<p>70 rows × 16 columns</p>\n",
       "</div>"
      ],
      "text/plain": [
       "       Country name  year  Life Ladder  Log GDP per capita  Social support  \\\n",
       "22          Armenia  2015     4.348320            9.008449        0.722551   \n",
       "35          Austria  2015     7.076447           10.697696        0.928110   \n",
       "46          Belarus  2015     5.718908            9.753776        0.924073   \n",
       "56          Belgium  2015     6.904219           10.641150        0.885209   \n",
       "58            Benin  2015     3.624664            7.594453        0.434389   \n",
       "..              ...   ...          ...                 ...             ...   \n",
       "614          Turkey  2015     5.514465           10.056709        0.851225   \n",
       "628         Ukraine  2015     3.964543            8.917973        0.909440   \n",
       "638  United Kingdom  2015     6.515445           10.571567        0.935986   \n",
       "651         Uruguay  2015     6.628080            9.900736        0.891493   \n",
       "661          Zambia  2015     4.843164            8.210052        0.691483   \n",
       "\n",
       "     Healthy life expectancy at birth  Freedom to make life choices  \\\n",
       "22                          66.000000                      0.551027   \n",
       "35                          72.099998                      0.900305   \n",
       "46                          65.199997                      0.622753   \n",
       "56                          71.400002                      0.869475   \n",
       "58                          53.099998                      0.733384   \n",
       "..                                ...                           ...   \n",
       "614                         65.599998                      0.653197   \n",
       "628                         63.700001                      0.430592   \n",
       "638                         71.699997                      0.832926   \n",
       "651                         68.699997                      0.916880   \n",
       "661                         53.799999                      0.758654   \n",
       "\n",
       "     Generosity  Perceptions of corruption  Positive affect  \\\n",
       "22    -0.186535                   0.901462         0.594143   \n",
       "35     0.102583                   0.557480         0.798263   \n",
       "46    -0.095122                   0.668678         0.583727   \n",
       "56     0.064905                   0.468785         0.805178   \n",
       "58    -0.003847                   0.850098         0.592222   \n",
       "..          ...                        ...              ...   \n",
       "614   -0.017012                   0.806076         0.460246   \n",
       "628   -0.011267                   0.952473         0.574076   \n",
       "638    0.300925                   0.456134         0.797785   \n",
       "651   -0.038354                   0.673476         0.892661   \n",
       "661   -0.049638                   0.871020         0.690034   \n",
       "\n",
       "     Democratic Quality  Delivery Quality  \\\n",
       "22            -0.394313         -0.210170   \n",
       "35             1.263306          1.564229   \n",
       "46            -0.677531         -0.650102   \n",
       "56             0.987267          1.440750   \n",
       "58             0.141303         -0.567374   \n",
       "..                  ...               ...   \n",
       "614           -0.930817          0.056615   \n",
       "628           -1.024300         -0.727938   \n",
       "638            0.907792          1.819708   \n",
       "651            1.073821          0.745666   \n",
       "661            0.042575         -0.390789   \n",
       "\n",
       "     Standard deviation of ladder by country-year  \\\n",
       "22                                       2.237644   \n",
       "35                                       1.762817   \n",
       "46                                       2.004021   \n",
       "56                                       1.511811   \n",
       "58                                       2.048732   \n",
       "..                                            ...   \n",
       "614                                      2.530940   \n",
       "628                                      1.956619   \n",
       "638                                      1.753815   \n",
       "651                                      2.191727   \n",
       "661                                      3.080448   \n",
       "\n",
       "     Standard deviation/Mean of ladder by country-year  \\\n",
       "22                                            0.514600   \n",
       "35                                            0.249110   \n",
       "46                                            0.350420   \n",
       "56                                            0.218969   \n",
       "58                                            0.565220   \n",
       "..                                                 ...   \n",
       "614                                           0.458964   \n",
       "628                                           0.493530   \n",
       "638                                           0.269178   \n",
       "651                                           0.330673   \n",
       "661                                           0.636040   \n",
       "\n",
       "     GINI index (World Bank estimate)                     Region  \n",
       "22                              0.324      Europe & Central Asia  \n",
       "35                              0.305      Europe & Central Asia  \n",
       "46                              0.256      Europe & Central Asia  \n",
       "56                              0.277      Europe & Central Asia  \n",
       "58                              0.478         Sub-Saharan Africa  \n",
       "..                                ...                        ...  \n",
       "614                             0.429      Europe & Central Asia  \n",
       "628                             0.255      Europe & Central Asia  \n",
       "638                             0.332      Europe & Central Asia  \n",
       "651                             0.402  Latin America & Caribbean  \n",
       "661                             0.571         Sub-Saharan Africa  \n",
       "\n",
       "[70 rows x 16 columns]"
      ]
     },
     "execution_count": 6,
     "metadata": {},
     "output_type": "execute_result"
    }
   ],
   "source": [
    "#Gini Data set \n",
    "gini_index\n",
    "gini_index_2010\n",
    "gini_index_2015"
   ]
  },
  {
   "cell_type": "code",
   "execution_count": 8,
   "id": "developmental-cloud",
   "metadata": {},
   "outputs": [],
   "source": [
    "gini_index_2015 = gini_index_2015.rename(columns={\"Life Ladder\" : \"Happiness Score\"})"
   ]
  },
  {
   "cell_type": "code",
   "execution_count": 9,
   "id": "specialized-authentication",
   "metadata": {},
   "outputs": [
    {
     "data": {
      "image/png": "[encoded data removed]",
      "text/plain": [
       "<Figure size 576x576 with 1 Axes>"
      ]
     },
     "metadata": {
      "needs_background": "light"
     },
     "output_type": "display_data"
    },
    {
     "name": "stdout",
     "output_type": "stream",
     "text": [
      "The r-value is 0.7619276931775727\n",
      "The p-value is 1.859926888355187e-14\n"
     ]
    }
   ],
   "source": [
    "# Scatter plot for GDP vs. Happiness\n",
    "\n",
    "#use pandas to plot a scatter plot\n",
    "gini_index_2015.plot(kind=\"scatter\", x=\"Log GDP per capita\", y=\"Happiness Score\", grid=False, figsize=(8,8),\n",
    "              title=\"Log GDP vs Happiness Score 2015\")\n",
    "\n",
    "#Calculate the correlation coefficient\n",
    "happiness = gini_index_2015.iloc[:, 2]\n",
    "gdp = gini_index_2015.iloc[:, 3]\n",
    "correlation = st.pearsonr(gdp, happiness)\n",
    "\n",
    "#Calculate  the linear regression, r squared \n",
    "slope, intercept, rvalue, pvalue, stderr = st.linregress(gdp, happiness)\n",
    "regress_values = gdp * slope + intercept\n",
    "\n",
    "plt.plot(gdp,regress_values,\"r-\")\n",
    "\n",
    "# Saves an image of our chart so that we can view it in a folder\n",
    "#plt.savefig(\"../Images/temp_lat.png\")\n",
    "plt.show()\n",
    "print(\"The r-value is \" + str(rvalue))\n",
    "print(\"The p-value is \" + str(pvalue))"
   ]
  },
  {
   "cell_type": "code",
   "execution_count": 10,
   "id": "lucky-jurisdiction",
   "metadata": {},
   "outputs": [
    {
     "data": {
      "image/png": "[encoded data removed]",
      "text/plain": [
       "<Figure size 576x576 with 1 Axes>"
      ]
     },
     "metadata": {
      "needs_background": "light"
     },
     "output_type": "display_data"
    },
    {
     "name": "stdout",
     "output_type": "stream",
     "text": [
      "The r-value is -0.2917016957676174\n",
      "The p-value is 0.01427969747218951\n"
     ]
    }
   ],
   "source": [
    "# Scatter plot for GDP vs. Happiness\n",
    "\n",
    "#use pandas to plot a scatter plot\n",
    "gini_index_2015.plot(kind=\"scatter\", x=\"GINI index (World Bank estimate)\", y=\"Happiness Score\", grid=False, figsize=(8,8),\n",
    "              title=\"GINI Score vs Happiness Score\")\n",
    "\n",
    "#Calculate the correlation coefficient\n",
    "happiness = gini_index_2015.iloc[:, 2]\n",
    "gini = gini_index_2015.iloc[:, 14]\n",
    "correlation = st.pearsonr(gini, happiness)\n",
    "\n",
    "#Calculate  the linear regression, r squared \n",
    "slope, intercept, rvalue, pvalue, stderr = st.linregress(gini, happiness)\n",
    "regress_values = gini * slope + intercept\n",
    "\n",
    "plt.plot(gini,regress_values,\"r-\")\n",
    "\n",
    "# Saves an image of our chart so that we can view it in a folder\n",
    "#plt.savefig(\"../Images/temp_lat.png\")\n",
    "plt.show()\n",
    "print(\"The r-value is \" + str(rvalue))\n",
    "print(\"The p-value is \" + str(pvalue))"
   ]
  },
  {
   "cell_type": "code",
   "execution_count": 11,
   "id": "encouraging-reason",
   "metadata": {},
   "outputs": [
    {
     "name": "stdout",
     "output_type": "stream",
     "text": [
      "22     0.324\n",
      "35     0.305\n",
      "46     0.256\n",
      "56     0.277\n",
      "58     0.478\n",
      "       ...  \n",
      "614    0.429\n",
      "628    0.255\n",
      "638    0.332\n",
      "651    0.402\n",
      "661    0.571\n",
      "Name: GINI index (World Bank estimate), Length: 70, dtype: float64\n"
     ]
    }
   ],
   "source": [
    "#Move gini index into a list\n",
    "gini_values = gini_index_2015[\"GINI index (World Bank estimate)\"]\n",
    "\n",
    "#sort gini index\n",
    "gini_values.sort_values()\n",
    "print(gini_values)"
   ]
  },
  {
   "cell_type": "code",
   "execution_count": 12,
   "id": "democratic-stroke",
   "metadata": {},
   "outputs": [
    {
     "name": "stdout",
     "output_type": "stream",
     "text": [
      "The lower quartile of temperatures is: 0.3125\n",
      "The upper quartile of temperatures is: 0.41374999999999995\n",
      "The interquartile range of temperatures is: 0.10124999999999995\n",
      "The the median of temperatures is: 0.3545 \n",
      "Values below 0.16062500000000007 could be outliers.\n",
      "Values above 0.5656249999999998 could be outliers.\n"
     ]
    }
   ],
   "source": [
    "# If the data is in a dataframe, we use pandas to give quartile calculations\n",
    "quartiles = gini_values.quantile([.25,.5,.75])\n",
    "lowerq = quartiles[0.25]\n",
    "upperq = quartiles[0.75]\n",
    "iqr = upperq-lowerq\n",
    "\n",
    "print(f\"The lower quartile of temperatures is: {lowerq}\")\n",
    "print(f\"The upper quartile of temperatures is: {upperq}\")\n",
    "print(f\"The interquartile range of temperatures is: {iqr}\")\n",
    "print(f\"The the median of temperatures is: {quartiles[0.5]} \")\n",
    "\n",
    "lower_bound = lowerq - (1.5*iqr)\n",
    "upper_bound = upperq + (1.5*iqr)\n",
    "print(f\"Values below {lower_bound} could be outliers.\")\n",
    "print(f\"Values above {upper_bound} could be outliers.\")"
   ]
  },
  {
   "cell_type": "code",
   "execution_count": 13,
   "id": "subsequent-chase",
   "metadata": {},
   "outputs": [
    {
     "data": {
      "image/png": "[encoded data removed]",
      "text/plain": [
       "<Figure size 432x288 with 1 Axes>"
      ]
     },
     "metadata": {
      "needs_background": "light"
     },
     "output_type": "display_data"
    }
   ],
   "source": [
    "# Generate a box plot of the final tumor volume of each mouse across four regimens of interest\n",
    "props = dict(markerfacecolor = 'red')\n",
    "plt.boxplot(gini_values)\n",
    "plt.title(\"Gini Coefficients\")\n",
    "plt.show()"
   ]
  },
  {
   "cell_type": "code",
   "execution_count": 14,
   "id": "specialized-grass",
   "metadata": {},
   "outputs": [
    {
     "data": {
      "text/plain": [
       "Country name                                         18\n",
       "year                                                 18\n",
       "Happiness Score                                      18\n",
       "Log GDP per capita                                   18\n",
       "Social support                                       18\n",
       "Healthy life expectancy at birth                     18\n",
       "Freedom to make life choices                         18\n",
       "Generosity                                           18\n",
       "Perceptions of corruption                            18\n",
       "Positive affect                                      18\n",
       "Democratic Quality                                   18\n",
       "Delivery Quality                                     18\n",
       "Standard deviation of ladder by country-year         18\n",
       "Standard deviation/Mean of ladder by country-year    18\n",
       "GINI index (World Bank estimate)                     18\n",
       "Region                                               18\n",
       "dtype: int64"
      ]
     },
     "execution_count": 14,
     "metadata": {},
     "output_type": "execute_result"
    }
   ],
   "source": [
    "equal = gini_index_2015.loc[(gini_index_2015[\"GINI index (World Bank estimate)\"]<0.3125), :]\n",
    "equal.count()"
   ]
  },
  {
   "cell_type": "code",
   "execution_count": 15,
   "id": "mathematical-bubble",
   "metadata": {},
   "outputs": [
    {
     "data": {
      "text/plain": [
       "Country name                                         18\n",
       "year                                                 18\n",
       "Happiness Score                                      18\n",
       "Log GDP per capita                                   18\n",
       "Social support                                       18\n",
       "Healthy life expectancy at birth                     18\n",
       "Freedom to make life choices                         18\n",
       "Generosity                                           18\n",
       "Perceptions of corruption                            18\n",
       "Positive affect                                      18\n",
       "Democratic Quality                                   18\n",
       "Delivery Quality                                     18\n",
       "Standard deviation of ladder by country-year         18\n",
       "Standard deviation/Mean of ladder by country-year    18\n",
       "GINI index (World Bank estimate)                     18\n",
       "Region                                               18\n",
       "dtype: int64"
      ]
     },
     "execution_count": 15,
     "metadata": {},
     "output_type": "execute_result"
    }
   ],
   "source": [
    "unequal = gini_index_2015.loc[(gini_index_2015[\"GINI index (World Bank estimate)\"]>0.41374999999999995), :]\n",
    "unequal.count()"
   ]
  },
  {
   "cell_type": "code",
   "execution_count": 41,
   "id": "independent-adobe",
   "metadata": {},
   "outputs": [
    {
     "data": {
      "image/png": "[encoded data removed]",
      "text/plain": [
       "<Figure size 576x576 with 1 Axes>"
      ]
     },
     "metadata": {
      "needs_background": "light"
     },
     "output_type": "display_data"
    },
    {
     "name": "stdout",
     "output_type": "stream",
     "text": [
      "0.7069238390030298\n",
      "0.0010365237749207807\n"
     ]
    }
   ],
   "source": [
    "# Scatter plot for GDP vs. Happiness\n",
    "\n",
    "#use pandas to plot a scatter plot\n",
    "unequal.plot(kind=\"scatter\", x=\"Log GDP per capita\", y=\"Happiness Score\", grid=False, figsize=(8,8),\n",
    "              title=\"GDP Growth vs Happiness Score for countries with high inequality\")\n",
    "\n",
    "#Calculate the correlation coefficient\n",
    "happiness = unequal.iloc[:, 2]\n",
    "gdp = unequal.iloc[:, 3]\n",
    "correlation = st.pearsonr(gdp, happiness)\n",
    "\n",
    "#Calculate  the linear regression, r squared \n",
    "slope, intercept, rvalue, pvalue, stderr = st.linregress(gdp, happiness)\n",
    "regress_values = gdp * slope + intercept\n",
    "\n",
    "plt.plot(gdp,regress_values,\"r-\")\n",
    "\n",
    "\n",
    "# Saves an image of our chart so that we can view it in a folder\n",
    "#plt.savefig(\"../Images/temp_lat.png\")\n",
    "plt.show()\n",
    "print(rvalue)\n",
    "print(pvalue)"
   ]
  },
  {
   "cell_type": "code",
   "execution_count": 18,
   "id": "limiting-niagara",
   "metadata": {},
   "outputs": [
    {
     "data": {
      "image/png": "[encoded data removed]",
      "text/plain": [
       "<Figure size 576x576 with 1 Axes>"
      ]
     },
     "metadata": {
      "needs_background": "light"
     },
     "output_type": "display_data"
    },
    {
     "name": "stdout",
     "output_type": "stream",
     "text": [
      "0.7843216387055076\n",
      "0.00011661863136819835\n"
     ]
    }
   ],
   "source": [
    "# Scatter plot for GDP vs. Happiness\n",
    "\n",
    "#use pandas to plot a scatter plot\n",
    "equal.plot(kind=\"scatter\", x=\"Log GDP per capita\", y=\"Happiness Score\", grid=False, figsize=(8,8),\n",
    "              title=\"GDP Growth vs Happiness Score for countries with low inequality\")\n",
    "\n",
    "#Calculate the correlation coefficient\n",
    "happiness = equal.iloc[:, 2]\n",
    "gdp = equal.iloc[:, 3]\n",
    "correlation = st.pearsonr(gdp, happiness)\n",
    "\n",
    "#Calculate  the linear regression, r squared \n",
    "slope, intercept, rvalue, pvalue, stderr = st.linregress(gdp, happiness)\n",
    "regress_values = gdp * slope + intercept\n",
    "\n",
    "plt.plot(gdp,regress_values,\"r-\")\n",
    "\n",
    "# Saves an image of our chart so that we can view it in a folder\n",
    "#plt.savefig(\"../Images/temp_lat.png\")\n",
    "plt.show()\n",
    "print(rvalue)\n",
    "print(pvalue)"
   ]
  },
  {
   "cell_type": "code",
   "execution_count": 19,
   "id": "assigned-diesel",
   "metadata": {},
   "outputs": [
    {
     "data": {
      "text/plain": [
       "year                                                 2015.000000\n",
       "Happiness Score                                         6.299444\n",
       "Log GDP per capita                                     10.114158\n",
       "Social support                                          0.902184\n",
       "Healthy life expectancy at birth                       68.644445\n",
       "Freedom to make life choices                            0.782484\n",
       "Generosity                                              0.056840\n",
       "Perceptions of corruption                               0.646959\n",
       "Positive affect                                         0.724620\n",
       "Democratic Quality                                      0.603295\n",
       "Delivery Quality                                        0.764709\n",
       "Standard deviation of ladder by country-year            1.777431\n",
       "Standard deviation/Mean of ladder by country-year       0.293756\n",
       "GINI index (World Bank estimate)                        0.278333\n",
       "dtype: float64"
      ]
     },
     "execution_count": 19,
     "metadata": {},
     "output_type": "execute_result"
    }
   ],
   "source": [
    "equal.mean()"
   ]
  },
  {
   "cell_type": "code",
   "execution_count": 20,
   "id": "outside-helena",
   "metadata": {},
   "outputs": [
    {
     "data": {
      "text/plain": [
       "year                                                 2015.000000\n",
       "Happiness Score                                         5.404142\n",
       "Log GDP per capita                                      9.055190\n",
       "Social support                                          0.793130\n",
       "Healthy life expectancy at birth                       62.688889\n",
       "Freedom to make life choices                            0.793363\n",
       "Generosity                                             -0.049134\n",
       "Perceptions of corruption                               0.805305\n",
       "Positive affect                                         0.746518\n",
       "Democratic Quality                                     -0.026220\n",
       "Delivery Quality                                       -0.224817\n",
       "Standard deviation of ladder by country-year            2.387642\n",
       "Standard deviation/Mean of ladder by country-year       0.459477\n",
       "GINI index (World Bank estimate)                        0.476611\n",
       "dtype: float64"
      ]
     },
     "execution_count": 20,
     "metadata": {},
     "output_type": "execute_result"
    }
   ],
   "source": [
    "unequal.mean()"
   ]
  },
  {
   "cell_type": "code",
   "execution_count": 21,
   "id": "aggressive-interstate",
   "metadata": {},
   "outputs": [],
   "source": [
    "#Divde into 4 groups to see the relationship with happiness/ used 'mean' values for both indicators\n",
    "group_1 = gini_index_2015.loc[(gini_index_2015[\"GINI index (World Bank estimate)\"]< 0.338) & (gini_index_2015[\"Log GDP per capita\"] < 9.27), :]\n",
    "group_2 = gini_index_2015.loc[(gini_index_2015[\"GINI index (World Bank estimate)\"]< 0.338) & (gini_index_2015[\"Log GDP per capita\"] >= 9.27), :]\n",
    "group_3 = gini_index_2015.loc[(gini_index_2015[\"GINI index (World Bank estimate)\"]> 0.338) & (gini_index_2015[\"Log GDP per capita\"] < 9.27), :]\n",
    "group_4 = gini_index_2015.loc[(gini_index_2015[\"GINI index (World Bank estimate)\"]> 0.338) & (gini_index_2015[\"Log GDP per capita\"] > 9.27), :]"
   ]
  },
  {
   "cell_type": "code",
   "execution_count": 40,
   "id": "acting-pledge",
   "metadata": {},
   "outputs": [
    {
     "data": {
      "text/plain": [
       "<BarContainer object of 4 artists>"
      ]
     },
     "execution_count": 40,
     "metadata": {},
     "output_type": "execute_result"
    },
    {
     "data": {
      "image/png": "[encoded data removed]",
      "text/plain": [
       "<Figure size 432x288 with 1 Axes>"
      ]
     },
     "metadata": {
      "needs_background": "light"
     },
     "output_type": "display_data"
    }
   ],
   "source": [
    "group_1_avg = group_1['Happiness Score'].mean()\n",
    "group_2_avg = group_2['Happiness Score'].mean()\n",
    "group_3_avg = group_3['Happiness Score'].mean()\n",
    "group_4_avg = group_4['Happiness Score'].mean()\n",
    "\n",
    "values = [group_1_avg, group_2_avg, group_3_avg, group_4_avg]\n",
    "x_axis = np.arange(len(values))\n",
    "width = 0\n",
    "\n",
    "plt.title(\"Average Happiness Scores\")\n",
    "\n",
    "tick_locations = [value for value in x_axis]\n",
    "plt.xticks(tick_locations, [\"Low Gini and Low GDP\", \"Low Gini and High GDP\", \"High Gini and Low GDP\", \"High Gini and High GDP\"])\n",
    "plt.xticks(rotation = 45)\n",
    "plt.xticks(x_axis + width / 2, (\"Low Gini and Low GDP\", \"Low Gini and High GDP\", \"High Gini and Low GDP\", \"High Gini and High GDP\"))\n",
    "\n",
    "plt.bar(x_axis, values, color='r', alpha=0.5, align=\"center\")"
   ]
  },
  {
   "cell_type": "code",
   "execution_count": null,
   "id": "administrative-diana",
   "metadata": {},
   "outputs": [],
   "source": []
  }
 ],
 "metadata": {
  "kernelspec": {
   "display_name": "Python 3",
   "language": "python",
   "name": "python3"
  },
  "language_info": {
   "codemirror_mode": {
    "name": "ipython",
    "version": 3
   },
   "file_extension": ".py",
   "mimetype": "text/x-python",
   "name": "python",
   "nbconvert_exporter": "python",
   "pygments_lexer": "ipython3",
   "version": "3.9.1"
  }
 },
 "nbformat": 4,
 "nbformat_minor": 5
}
